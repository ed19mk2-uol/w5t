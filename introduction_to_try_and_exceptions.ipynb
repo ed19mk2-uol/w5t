{
 "cells": [
  {
   "cell_type": "markdown",
   "metadata": {},
   "source": [
    "# Understanding Try Statements in Python\n",
    "\n",
    "Exceptions are errors that occur during the execution of a program. They can cause the program to stop running abruptly. For example, dividing a number by zero or entering invalid input can trigger an exception. Without proper handling, these errors crash the program and prevent further execution.\n",
    "\n",
    "However, with **try statements**, we can catch these exceptions and handle them gracefully, allowing the program to continue running. The try statement consists of:\n",
    "\n",
    "- A `try` block, where you place code that might raise an exception.\n",
    "- One or more `except` blocks, where you handle specific exceptions that might occur.\n",
    "\n",
    "Let's explore this with some simple examples."
   ]
  },
  {
   "cell_type": "markdown",
   "metadata": {},
   "source": [
    "**A Simple Example**\n",
    "\n",
    "Here's a basic demonstration of a try statement handling a division by zero error:"
   ]
  },
  {
   "cell_type": "code",
   "execution_count": 1,
   "metadata": {},
   "outputs": [
    {
     "ename": "ZeroDivisionError",
     "evalue": "division by zero",
     "output_type": "error",
     "traceback": [
      "\u001b[1;31m---------------------------------------------------------------------------\u001b[0m",
      "\u001b[1;31mZeroDivisionError\u001b[0m                         Traceback (most recent call last)",
      "Cell \u001b[1;32mIn[1], line 1\u001b[0m\n\u001b[1;32m----> 1\u001b[0m result \u001b[38;5;241m=\u001b[39m \u001b[38;5;241;43m10\u001b[39;49m\u001b[43m \u001b[49m\u001b[38;5;241;43m/\u001b[39;49m\u001b[43m \u001b[49m\u001b[38;5;241;43m0\u001b[39;49m\n",
      "\u001b[1;31mZeroDivisionError\u001b[0m: division by zero"
     ]
    }
   ],
   "source": [
    "result = 10 / 0"
   ]
  },
  {
   "cell_type": "code",
   "execution_count": 2,
   "metadata": {},
   "outputs": [
    {
     "name": "stdout",
     "output_type": "stream",
     "text": [
      "Oops! You tried to divide by zero.\n",
      "The program continues running.\n"
     ]
    }
   ],
   "source": [
    "try:\n",
    "    result = 10 / 0  # This will raise a ZeroDivisionError\n",
    "except ZeroDivisionError:\n",
    "    print(\"Oops! You tried to divide by zero.\")\n",
    "print(\"The program continues running.\")"
   ]
  },
  {
   "cell_type": "markdown",
   "metadata": {},
   "source": [
    "**Output (example):**\n",
    "```\n",
    "Oops! You tried to divide by zero.\n",
    "The program continues running.\n",
    "```\n",
    "\n",
    "In this code:\n",
    "- The `try` block attempts to divide 10 by 0, which raises a `ZeroDivisionError`.\n",
    "- The `except ZeroDivisionError` block catches the error and prints a friendly message.\n",
    "- The `print(\"The program continues running.\")` line executes afterward, showing that the program doesn't crash."
   ]
  },
  {
   "cell_type": "markdown",
   "metadata": {},
   "source": [
    "**What Happens Without a Try Statement?**\n",
    "\n",
    "To see the difference, here's the same code without a try statement:"
   ]
  },
  {
   "cell_type": "code",
   "execution_count": null,
   "metadata": {},
   "outputs": [],
   "source": [
    "result = 10 / 0  # This will raise a ZeroDivisionError\n",
    "print(\"The program continues running.\")"
   ]
  },
  {
   "cell_type": "markdown",
   "metadata": {},
   "source": [
    "**Output (example):**\n",
    "```\n",
    "ZeroDivisionError: division by zero\n",
    "```\n",
    "\n",
    "When you run this, Python raises a `ZeroDivisionError` and stops execution immediately. The message \"The program continues running.\" is never printed because the program crashes. This highlights why try statements are useful—they prevent crashes and let the program keep going."
   ]
  },
  {
   "cell_type": "markdown",
   "metadata": {},
   "source": [
    "**A Practical Example with User Input**\n",
    "\n",
    "Now, let’s look at a more interactive example. We'll ask the user for input and use a try statement to handle potential errors, such as dividing by zero or entering invalid data:"
   ]
  },
  {
   "cell_type": "code",
   "execution_count": null,
   "metadata": {},
   "outputs": [],
   "source": [
    "try:\n",
    "    denominator = int(input(\"Enter a number to divide 10 by: \"))\n",
    "    result = 10 / denominator\n",
    "    print(f\"10 divided by {denominator} is {result}\")\n",
    "except ZeroDivisionError:\n",
    "    print(\"You can't divide by zero!\")\n",
    "except ValueError:\n",
    "    print(\"That's not a valid number!\")\n",
    "print(\"The program continues running.\")"
   ]
  },
  {
   "cell_type": "markdown",
   "metadata": {},
   "source": [
    "**Example Runs:**\n",
    "1. **Input:** `2`\n",
    "   ```\n",
    "   Enter a number to divide 10 by: 2\n",
    "   10 divided by 2 is 5.0\n",
    "   The program continues running.\n",
    "   ```\n",
    "\n",
    "2. **Input:** `0`\n",
    "   ```\n",
    "   Enter a number to divide 10 by: 0\n",
    "   You can't divide by zero!\n",
    "   The program continues running.\n",
    "   ```\n",
    "\n",
    "3. **Input:** `abc`\n",
    "   ```\n",
    "   Enter a number to divide 10 by: abc\n",
    "   That's not a valid number!\n",
    "   The program continues running.\n",
    "   ```\n",
    "\n",
    "In this example:\n",
    "- If the user enters a valid number (like `2`), the division works, and the result is printed.\n",
    "- If the user enters `0`, the `ZeroDivisionError` is caught, and a message is displayed.\n",
    "- If the user enters something invalid (like `abc`), the `ValueError` from `int()` is caught.\n",
    "- No matter what happens, \"The program continues running.\" is printed, showing that the try statement keeps the program alive."
   ]
  },
  {
   "cell_type": "markdown",
   "metadata": {},
   "source": [
    "**Try It Yourself!**\n",
    "\n",
    "Run the code above and test it with different inputs:\n",
    "- Enter a number like `4` or `10`.\n",
    "- Enter `0` to see the zero division error handling.\n",
    "- Enter text like `hello` to see the invalid input handling.\n",
    "\n",
    "The try statement ensures that errors are handled, and the program continues executing. This is especially useful in real applications where you don’t want small errors to stop everything."
   ]
  }
 ],
 "metadata": {
  "kernelspec": {
   "display_name": "Python 3",
   "language": "python",
   "name": "python3"
  },
  "language_info": {
   "codemirror_mode": {
    "name": "ipython",
    "version": 3
   },
   "file_extension": ".py",
   "mimetype": "text/x-python",
   "name": "python",
   "nbconvert_exporter": "python",
   "pygments_lexer": "ipython3",
   "version": "3.13.2"
  }
 },
 "nbformat": 4,
 "nbformat_minor": 4
}
