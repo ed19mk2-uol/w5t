{
  "cells": [
    {
      "cell_type": "markdown",
      "metadata": {},
      "source": [
        "# Introduction to Unit Tests\n",
        "\n",
        "Unit testing is a software testing method where individual units or components of a software are tested. The purpose is to validate that each unit of the software performs as expected. A unit is the smallest testable part of any software, often a function or a method.\n",
        "\n",
        "Unit tests are important because they:\n",
        "- Help catch bugs early in the development process.\n",
        "- Ensure that code meets its design and behaves as intended.\n",
        "- Facilitate code refactoring by providing a safety net to detect regressions.\n",
        "- Serve as documentation for the code's behavior.\n",
        "\n",
        "In Python, the built-in `unittest` module provides a framework for creating and running unit tests. Other popular testing frameworks include `pytest` and `nose`, but for this introduction, we'll use `unittest`.\n",
        "\n",
        "Below, we will define some simple functions and write unit tests for them using `unittest`.\n"
      ]
    },
    {
      "cell_type": "code",
      "execution_count": null,
      "metadata": {},
      "outputs": [],
      "source": [
        "def add(a, b):\n",
        "    return a + b\n"
      ]
    },
    {
      "cell_type": "code",
      "execution_count": null,
      "metadata": {},
      "outputs": [],
      "source": [
        "# Simple tests using assert\n",
        "assert add(2, 3) == 5, \"2 + 3 should be 5\"\n",
        "assert add(-1, 1) == 0, \"-1 + 1 should be 0\"\n",
        "assert add(0, 0) == 0, \"0 + 0 should be 0\"\n",
        "print(\"All assertions passed!\")\n"
      ]
    },
    {
      "cell_type": "markdown",
      "metadata": {},
      "source": [
        "While `assert` statements can be used for simple tests, they are not as powerful as using a dedicated testing framework. A testing framework like `unittest` provides:\n",
        "\n",
        "- A way to organize tests into test cases and test suites.\n",
        "- Automatic test discovery.\n",
        "- Detailed reports on test results.\n",
        "- Setup and teardown methods for managing test fixtures.\n",
        "\n",
        "Let's see how to write unit tests using `unittest`.\n"
      ]
    },
    {
      "cell_type": "code",
      "execution_count": null,
      "metadata": {},
      "outputs": [],
      "source": [
        "import unittest\n",
        "\n",
        "class TestAddFunction(unittest.TestCase):\n",
        "    def test_add_positive_numbers(self):\n",
        "        self.assertEqual(add(2, 3), 5)\n",
        "    \n",
        "    def test_add_negative_numbers(self):\n",
        "        self.assertEqual(add(-1, -1), -2)\n",
        "    \n",
        "    def test_add_mixed_numbers(self):\n",
        "        self.assertEqual(add(-1, 1), 0)\n",
        "    \n",
        "    def test_add_zero(self):\n",
        "        self.assertEqual(add(0, 0), 0)\n"
      ]
    },
    {
      "cell_type": "code",
      "execution_count": null,
      "metadata": {},
      "outputs": [],
      "source": [
        "def is_even(n):\n",
        "    return n % 2 == 0\n"
      ]
    },
    {
      "cell_type": "code",
      "execution_count": null,
      "metadata": {},
      "outputs": [],
      "source": [
        "class TestIsEvenFunction(unittest.TestCase):\n",
        "    def test_even_number(self):\n",
        "        self.assertTrue(is_even(4))\n",
        "    \n",
        "    def test_odd_number(self):\n",
        "        self.assertFalse(is_even(5))\n",
        "    \n",
        "    def test_zero(self):\n",
        "        self.assertTrue(is_even(0))\n"
      ]
    },
    {
      "cell_type": "code",
      "execution_count": null,
      "metadata": {},
      "outputs": [],
      "source": [
        "# Run all tests\n",
        "unittest.main(argv=[''], exit=False)\n"
      ]
    }
  ],
  "metadata": {
    "kernelspec": {
      "display_name": "Python 3",
      "language": "python",
      "name": "python3"
    },
    "language_info": {
      "name": "python",
      "version": "3.8.5"
    }
  },
  "nbformat": 4,
  "nbformat_minor": 4
}
